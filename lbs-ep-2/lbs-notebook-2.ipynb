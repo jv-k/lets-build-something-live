{
 "cells": [
  {
   "cell_type": "code",
   "execution_count": 1,
   "id": "d384cded",
   "metadata": {},
   "outputs": [
    {
     "name": "stdout",
     "output_type": "stream",
     "text": [
      "Hello LBS\n"
     ]
    }
   ],
   "source": [
    "print(\"Hello LBS\")"
   ]
  },
  {
   "cell_type": "code",
   "execution_count": 2,
   "id": "e582d828",
   "metadata": {},
   "outputs": [],
   "source": [
    "classes = ['tree', 'hotdog', 'tea']"
   ]
  },
  {
   "cell_type": "code",
   "execution_count": 3,
   "id": "03e9900f",
   "metadata": {},
   "outputs": [],
   "source": [
    "train_lst = []\n",
    "val_lst   = []"
   ]
  },
  {
   "cell_type": "code",
   "execution_count": 9,
   "id": "bf29a77e",
   "metadata": {},
   "outputs": [],
   "source": [
    "for c in range(len(classes)):\n",
    "    \n",
    "    for i in range(0,20):\n",
    "        train_lst.append(\"{}\\t{}-{}.jpg\".format(c, classes[c] ,i))\n",
    "    \n",
    "    for i in range(20,24):\n",
    "        val_lst.append(\"{}\\t{}-{}.jpg\".format(c, classes[c] ,i))  \n",
    "    "
   ]
  },
  {
   "cell_type": "code",
   "execution_count": 11,
   "id": "0715a51c",
   "metadata": {},
   "outputs": [],
   "source": [
    "import random"
   ]
  },
  {
   "cell_type": "code",
   "execution_count": 12,
   "id": "125bd4cc",
   "metadata": {},
   "outputs": [],
   "source": [
    "random.shuffle(train_lst)\n",
    "random.shuffle(val_lst)"
   ]
  },
  {
   "cell_type": "code",
   "execution_count": 14,
   "id": "de871262",
   "metadata": {},
   "outputs": [
    {
     "name": "stdout",
     "output_type": "stream",
     "text": [
      "0\t1\thotdog-18.jpg\n",
      "1\t0\ttree-19.jpg\n",
      "2\t2\ttea-15.jpg\n",
      "3\t0\ttree-0.jpg\n",
      "4\t2\ttea-14.jpg\n",
      "5\t1\thotdog-4.jpg\n",
      "6\t2\ttea-10.jpg\n",
      "7\t0\ttree-8.jpg\n",
      "8\t0\ttree-16.jpg\n",
      "9\t2\ttea-12.jpg\n",
      "10\t1\thotdog-7.jpg\n",
      "11\t2\ttea-3.jpg\n",
      "12\t0\ttree-15.jpg\n",
      "13\t1\thotdog-19.jpg\n",
      "14\t1\thotdog-11.jpg\n",
      "15\t0\ttree-5.jpg\n",
      "16\t1\thotdog-12.jpg\n",
      "17\t1\thotdog-16.jpg\n",
      "18\t2\ttea-16.jpg\n",
      "19\t0\ttree-9.jpg\n",
      "20\t0\ttree-14.jpg\n",
      "21\t1\thotdog-15.jpg\n",
      "22\t1\thotdog-0.jpg\n",
      "23\t1\thotdog-17.jpg\n",
      "24\t2\ttea-6.jpg\n",
      "25\t0\ttree-6.jpg\n",
      "26\t2\ttea-0.jpg\n",
      "27\t2\ttea-1.jpg\n",
      "28\t1\thotdog-3.jpg\n",
      "29\t2\ttea-17.jpg\n",
      "30\t1\thotdog-10.jpg\n",
      "31\t2\ttea-7.jpg\n",
      "32\t0\ttree-4.jpg\n",
      "33\t2\ttea-8.jpg\n",
      "34\t0\ttree-18.jpg\n",
      "35\t2\ttea-18.jpg\n",
      "36\t0\ttree-3.jpg\n",
      "37\t0\ttree-11.jpg\n",
      "38\t0\ttree-17.jpg\n",
      "39\t1\thotdog-13.jpg\n",
      "40\t1\thotdog-1.jpg\n",
      "41\t1\thotdog-2.jpg\n",
      "42\t1\thotdog-14.jpg\n",
      "43\t2\ttea-19.jpg\n",
      "44\t1\thotdog-6.jpg\n",
      "45\t0\ttree-1.jpg\n",
      "46\t2\ttea-13.jpg\n",
      "47\t2\ttea-9.jpg\n",
      "48\t0\ttree-13.jpg\n",
      "49\t2\ttea-5.jpg\n",
      "50\t1\thotdog-8.jpg\n",
      "51\t0\ttree-10.jpg\n",
      "52\t1\thotdog-9.jpg\n",
      "53\t1\thotdog-5.jpg\n",
      "54\t0\ttree-7.jpg\n",
      "55\t0\ttree-12.jpg\n",
      "56\t2\ttea-11.jpg\n",
      "57\t2\ttea-2.jpg\n",
      "58\t2\ttea-4.jpg\n",
      "59\t0\ttree-2.jpg\n"
     ]
    }
   ],
   "source": [
    "for i in range(len(train_lst)):\n",
    "    print( \"{}\\t{}\".format( i, train_lst[i] ) )"
   ]
  },
  {
   "cell_type": "code",
   "execution_count": 15,
   "id": "2e83817d",
   "metadata": {},
   "outputs": [
    {
     "name": "stdout",
     "output_type": "stream",
     "text": [
      "0\t0\ttree-22.jpg\n",
      "1\t1\thotdog-20.jpg\n",
      "2\t2\ttea-23.jpg\n",
      "3\t0\ttree-23.jpg\n",
      "4\t1\thotdog-21.jpg\n",
      "5\t1\thotdog-23.jpg\n",
      "6\t0\ttree-21.jpg\n",
      "7\t1\thotdog-22.jpg\n",
      "8\t0\ttree-20.jpg\n",
      "9\t2\ttea-20.jpg\n",
      "10\t2\ttea-21.jpg\n",
      "11\t2\ttea-22.jpg\n"
     ]
    }
   ],
   "source": [
    "for i in range(len(val_lst)):\n",
    "    print( \"{}\\t{}\".format( i, val_lst[i] ) )"
   ]
  },
  {
   "cell_type": "markdown",
   "id": "421924da",
   "metadata": {},
   "source": [
    "id      class     image_path\n",
    "0       0         /path/to/image-tree-0\n",
    "1       1         "
   ]
  }
 ],
 "metadata": {
  "kernelspec": {
   "display_name": "conda_python3",
   "language": "python",
   "name": "conda_python3"
  },
  "language_info": {
   "codemirror_mode": {
    "name": "ipython",
    "version": 3
   },
   "file_extension": ".py",
   "mimetype": "text/x-python",
   "name": "python",
   "nbconvert_exporter": "python",
   "pygments_lexer": "ipython3",
   "version": "3.6.13"
  }
 },
 "nbformat": 4,
 "nbformat_minor": 5
}
