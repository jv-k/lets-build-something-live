{
 "cells": [
  {
   "cell_type": "markdown",
   "id": "802b8e4b",
   "metadata": {},
   "source": [
    "# Get the URI's of the Amazon Owned Training Images"
   ]
  },
  {
   "cell_type": "code",
   "execution_count": 1,
   "id": "91d4bcdf",
   "metadata": {},
   "outputs": [],
   "source": [
    "from boto3.session import Session\n",
    "from sagemaker import image_uris"
   ]
  },
  {
   "cell_type": "code",
   "execution_count": null,
   "id": "2d6b7feb",
   "metadata": {},
   "outputs": [],
   "source": [
    "s = Session()\n",
    "sagemaker_regions = s.get_available_regions('sagemaker')"
   ]
  },
  {
   "cell_type": "code",
   "execution_count": 9,
   "id": "3ef909f4",
   "metadata": {},
   "outputs": [],
   "source": [
    "framework = 'image-classification'"
   ]
  },
  {
   "cell_type": "code",
   "execution_count": 10,
   "id": "414f5b8d",
   "metadata": {},
   "outputs": [
    {
     "name": "stdout",
     "output_type": "stream",
     "text": [
      "Region: af-south-1\tUri: 455444449433.dkr.ecr.af-south-1.amazonaws.com/image-classification:1\n",
      "Region: ap-east-1\tUri: 286214385809.dkr.ecr.ap-east-1.amazonaws.com/image-classification:1\n",
      "Region: ap-northeast-1\tUri: 501404015308.dkr.ecr.ap-northeast-1.amazonaws.com/image-classification:1\n",
      "Region: ap-northeast-2\tUri: 306986355934.dkr.ecr.ap-northeast-2.amazonaws.com/image-classification:1\n",
      "Region: ap-northeast-3\tUri: 867004704886.dkr.ecr.ap-northeast-3.amazonaws.com/image-classification:1\n",
      "Region: ap-south-1\tUri: 991648021394.dkr.ecr.ap-south-1.amazonaws.com/image-classification:1\n",
      "Region: ap-southeast-1\tUri: 475088953585.dkr.ecr.ap-southeast-1.amazonaws.com/image-classification:1\n",
      "Region: ap-southeast-2\tUri: 544295431143.dkr.ecr.ap-southeast-2.amazonaws.com/image-classification:1\n",
      "Region: ca-central-1\tUri: 469771592824.dkr.ecr.ca-central-1.amazonaws.com/image-classification:1\n",
      "Region: eu-central-1\tUri: 813361260812.dkr.ecr.eu-central-1.amazonaws.com/image-classification:1\n",
      "Region: eu-north-1\tUri: 669576153137.dkr.ecr.eu-north-1.amazonaws.com/image-classification:1\n",
      "Region: eu-south-1\tUri: 257386234256.dkr.ecr.eu-south-1.amazonaws.com/image-classification:1\n",
      "Region: eu-west-1\tUri: 685385470294.dkr.ecr.eu-west-1.amazonaws.com/image-classification:1\n",
      "Region: eu-west-2\tUri: 644912444149.dkr.ecr.eu-west-2.amazonaws.com/image-classification:1\n",
      "Region: eu-west-3\tUri: 749696950732.dkr.ecr.eu-west-3.amazonaws.com/image-classification:1\n",
      "Region: me-south-1\tUri: 249704162688.dkr.ecr.me-south-1.amazonaws.com/image-classification:1\n",
      "Region: sa-east-1\tUri: 855470959533.dkr.ecr.sa-east-1.amazonaws.com/image-classification:1\n",
      "Region: us-east-1\tUri: 811284229777.dkr.ecr.us-east-1.amazonaws.com/image-classification:1\n",
      "Region: us-east-2\tUri: 825641698319.dkr.ecr.us-east-2.amazonaws.com/image-classification:1\n",
      "Region: us-west-1\tUri: 632365934929.dkr.ecr.us-west-1.amazonaws.com/image-classification:1\n",
      "Region: us-west-2\tUri: 433757028032.dkr.ecr.us-west-2.amazonaws.com/image-classification:1\n"
     ]
    }
   ],
   "source": [
    "for r in sagemaker_regions:\n",
    "    uri = image_uris.retrieve(framework=framework,region=r)\n",
    "    print(\"Region: {}\\tUri: {}\".format(r, uri))"
   ]
  },
  {
   "cell_type": "code",
   "execution_count": 3,
   "id": "bdd5d97f",
   "metadata": {},
   "outputs": [],
   "source": []
  },
  {
   "cell_type": "code",
   "execution_count": null,
   "id": "5428fc31",
   "metadata": {},
   "outputs": [],
   "source": []
  },
  {
   "cell_type": "code",
   "execution_count": null,
   "id": "072f780b",
   "metadata": {},
   "outputs": [],
   "source": []
  }
 ],
 "metadata": {
  "kernelspec": {
   "display_name": "conda_python3",
   "language": "python",
   "name": "conda_python3"
  },
  "language_info": {
   "codemirror_mode": {
    "name": "ipython",
    "version": 3
   },
   "file_extension": ".py",
   "mimetype": "text/x-python",
   "name": "python",
   "nbconvert_exporter": "python",
   "pygments_lexer": "ipython3",
   "version": "3.6.13"
  }
 },
 "nbformat": 4,
 "nbformat_minor": 5
}
