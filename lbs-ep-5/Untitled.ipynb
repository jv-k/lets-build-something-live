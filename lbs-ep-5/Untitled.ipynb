{
 "cells": [
  {
   "cell_type": "markdown",
   "id": "25930ca0",
   "metadata": {},
   "source": [
    "# Let's Make Inferance "
   ]
  },
  {
   "cell_type": "code",
   "execution_count": 6,
   "id": "9aad2dc1",
   "metadata": {},
   "outputs": [],
   "source": [
    "import boto3\n",
    "import json"
   ]
  },
  {
   "cell_type": "code",
   "execution_count": 2,
   "id": "dbdd67c6",
   "metadata": {},
   "outputs": [],
   "source": [
    "client = boto3.client('sagemaker-runtime')"
   ]
  },
  {
   "cell_type": "code",
   "execution_count": 3,
   "id": "dac57a89",
   "metadata": {},
   "outputs": [],
   "source": [
    "f = open('./test_1.jpg', 'rb')\n",
    "data = f.read()"
   ]
  },
  {
   "cell_type": "code",
   "execution_count": 4,
   "id": "eb99e86c",
   "metadata": {},
   "outputs": [],
   "source": [
    "response = client.invoke_endpoint(\n",
    "    EndpointName='lbs-tree-hotdog-tea-1',\n",
    "    Body=data\n",
    ")"
   ]
  },
  {
   "cell_type": "code",
   "execution_count": 7,
   "id": "e9a7c478",
   "metadata": {},
   "outputs": [],
   "source": [
    "results = json.loads(response['Body'].read().decode())"
   ]
  },
  {
   "cell_type": "code",
   "execution_count": 8,
   "id": "f0c569df",
   "metadata": {},
   "outputs": [
    {
     "data": {
      "text/plain": [
       "[0.0032631459180265665, 0.9967368245124817, 3.247778934678536e-08]"
      ]
     },
     "execution_count": 8,
     "metadata": {},
     "output_type": "execute_result"
    }
   ],
   "source": [
    "results"
   ]
  },
  {
   "cell_type": "markdown",
   "id": "19b1256a",
   "metadata": {},
   "source": [
    "0 = Tree,\n",
    "1 = HotDog,\n",
    "2 = Tea"
   ]
  },
  {
   "cell_type": "code",
   "execution_count": 9,
   "id": "ee26e901",
   "metadata": {},
   "outputs": [],
   "source": [
    "import numpy as np"
   ]
  },
  {
   "cell_type": "code",
   "execution_count": 10,
   "id": "7f4d8e89",
   "metadata": {},
   "outputs": [
    {
     "data": {
      "text/plain": [
       "1"
      ]
     },
     "execution_count": 10,
     "metadata": {},
     "output_type": "execute_result"
    }
   ],
   "source": [
    "np.argmax(results)"
   ]
  },
  {
   "cell_type": "code",
   "execution_count": 11,
   "id": "27fe0262",
   "metadata": {},
   "outputs": [],
   "source": [
    "labels = ['tree', 'hotdog', 'tea']"
   ]
  },
  {
   "cell_type": "code",
   "execution_count": 14,
   "id": "8b057c08",
   "metadata": {},
   "outputs": [
    {
     "name": "stdout",
     "output_type": "stream",
     "text": [
      "tree\n"
     ]
    }
   ],
   "source": [
    "image_name = 'test_3.jpg'\n",
    "\n",
    "f = open(image_name, 'rb')\n",
    "data = f.read()\n",
    "\n",
    "response = client.invoke_endpoint(\n",
    "    EndpointName='lbs-tree-hotdog-tea-1',\n",
    "    Body=data\n",
    ")\n",
    "\n",
    "results = json.loads(response['Body'].read().decode())\n",
    "\n",
    "pred = np.argmax(results)\n",
    "\n",
    "print( labels[pred] )\n"
   ]
  },
  {
   "cell_type": "code",
   "execution_count": null,
   "id": "2283ab64",
   "metadata": {},
   "outputs": [],
   "source": []
  }
 ],
 "metadata": {
  "kernelspec": {
   "display_name": "conda_python3",
   "language": "python",
   "name": "conda_python3"
  },
  "language_info": {
   "codemirror_mode": {
    "name": "ipython",
    "version": 3
   },
   "file_extension": ".py",
   "mimetype": "text/x-python",
   "name": "python",
   "nbconvert_exporter": "python",
   "pygments_lexer": "ipython3",
   "version": "3.6.13"
  }
 },
 "nbformat": 4,
 "nbformat_minor": 5
}
