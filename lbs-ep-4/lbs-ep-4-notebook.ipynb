{
 "cells": [
  {
   "cell_type": "markdown",
   "id": "e16ebae3",
   "metadata": {},
   "source": [
    "# Lets Build Something \n",
    "\n",
    "## Lets make some inferance \n",
    "\n",
    "0 = Tree\n",
    "1 = Hotdog\n",
    "2 = Tea"
   ]
  },
  {
   "cell_type": "code",
   "execution_count": 17,
   "id": "fbeda0b2",
   "metadata": {},
   "outputs": [],
   "source": [
    "import boto3"
   ]
  },
  {
   "cell_type": "code",
   "execution_count": 18,
   "id": "d6c77ac6",
   "metadata": {},
   "outputs": [],
   "source": [
    "import json"
   ]
  },
  {
   "cell_type": "code",
   "execution_count": 19,
   "id": "8812a5ee",
   "metadata": {},
   "outputs": [],
   "source": [
    "client = boto3.client('sagemaker-runtime')"
   ]
  },
  {
   "cell_type": "code",
   "execution_count": 20,
   "id": "250ef858",
   "metadata": {},
   "outputs": [],
   "source": [
    "f = open('./test_3.jpg', 'rb')\n",
    "data = f.read()"
   ]
  },
  {
   "cell_type": "code",
   "execution_count": 21,
   "id": "7a3bc5ec",
   "metadata": {},
   "outputs": [],
   "source": [
    "response = client.invoke_endpoint(\n",
    "    EndpointName=\"b\",\n",
    "    Body=data\n",
    ")"
   ]
  },
  {
   "cell_type": "code",
   "execution_count": 22,
   "id": "119dc384",
   "metadata": {},
   "outputs": [],
   "source": [
    "result = json.loads(response['Body'].read().decode())"
   ]
  },
  {
   "cell_type": "code",
   "execution_count": 23,
   "id": "7f367f69",
   "metadata": {},
   "outputs": [
    {
     "data": {
      "text/plain": [
       "[1.0, 2.1091477728656701e-16, 5.628758896122932e-32]"
      ]
     },
     "execution_count": 23,
     "metadata": {},
     "output_type": "execute_result"
    }
   ],
   "source": [
    "result"
   ]
  },
  {
   "cell_type": "code",
   "execution_count": null,
   "id": "7bd6a54e",
   "metadata": {},
   "outputs": [],
   "source": []
  }
 ],
 "metadata": {
  "kernelspec": {
   "display_name": "conda_python3",
   "language": "python",
   "name": "conda_python3"
  },
  "language_info": {
   "codemirror_mode": {
    "name": "ipython",
    "version": 3
   },
   "file_extension": ".py",
   "mimetype": "text/x-python",
   "name": "python",
   "nbconvert_exporter": "python",
   "pygments_lexer": "ipython3",
   "version": "3.6.13"
  }
 },
 "nbformat": 4,
 "nbformat_minor": 5
}
